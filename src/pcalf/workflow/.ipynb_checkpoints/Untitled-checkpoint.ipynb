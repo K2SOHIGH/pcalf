{
 "cells": [
  {
   "cell_type": "code",
   "execution_count": 9,
   "id": "5470d662",
   "metadata": {},
   "outputs": [],
   "source": [
    "\n",
    "import HarleyDB\n",
    "import importlib\n",
    "importlib.reload(HarleyDB)\n",
    "db = HarleyDB.HarleyDB()\n",
    "db.create(\"test.db\")\n"
   ]
  }
 ],
 "metadata": {
  "kernelspec": {
   "display_name": "Python 3 (ipykernel)",
   "language": "python",
   "name": "python3"
  },
  "language_info": {
   "codemirror_mode": {
    "name": "ipython",
    "version": 3
   },
   "file_extension": ".py",
   "mimetype": "text/x-python",
   "name": "python",
   "nbconvert_exporter": "python",
   "pygments_lexer": "ipython3",
   "version": "3.9.15"
  }
 },
 "nbformat": 4,
 "nbformat_minor": 5
}
