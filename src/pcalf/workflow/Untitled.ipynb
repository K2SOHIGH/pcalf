{
 "cells": [
  {
   "cell_type": "code",
   "execution_count": 120,
   "id": "5470d662",
   "metadata": {},
   "outputs": [
    {
     "data": {
      "text/plain": [
       "{'test': 'AAAHAHAHHAHAA', 'test2': 'AAHCHCHCHCHCH'}"
      ]
     },
     "execution_count": 120,
     "metadata": {},
     "output_type": "execute_result"
    }
   ],
   "source": [
    "\n",
    "import HarleyDB\n",
    "import importlib\n",
    "importlib.reload(HarleyDB)\n",
    "db = HarleyDB.HarleyDB(\"test4.db\")\n",
    "db.md5\n",
    "db.list_table()\n",
    "db.to_fasta(\"gly1\")\n",
    "db.to_msa(\"gly1\")"
   ]
  },
  {
   "cell_type": "code",
   "execution_count": 121,
   "id": "6b8031bf",
   "metadata": {},
   "outputs": [
    {
     "data": {
      "text/plain": [
       "[('osef', 'Z-type', 'AAAAAA')]"
      ]
     },
     "execution_count": 121,
     "metadata": {},
     "output_type": "execute_result"
    }
   ],
   "source": [
    "db.generate_nter_db()"
   ]
  },
  {
   "cell_type": "code",
   "execution_count": 122,
   "id": "9d7aa636",
   "metadata": {},
   "outputs": [
    {
     "data": {
      "text/plain": [
       "['Calcyanin with known N-ter']"
      ]
     },
     "execution_count": 122,
     "metadata": {},
     "output_type": "execute_result"
    }
   ],
   "source": [
    "db.get_col_values(\"summary\",\"flag\")"
   ]
  },
  {
   "cell_type": "code",
   "execution_count": 92,
   "id": "ac6a930a",
   "metadata": {},
   "outputs": [
    {
     "data": {
      "text/plain": [
       "'4ab84c75cebc03e5f9e8b4448750b44f'"
      ]
     },
     "execution_count": 92,
     "metadata": {},
     "output_type": "execute_result"
    }
   ],
   "source": [
    "db2 = HarleyDB.HarleyDB(\"test2.db\")\n",
    "db2.md5"
   ]
  },
  {
   "cell_type": "code",
   "execution_count": 93,
   "id": "cc9b828d",
   "metadata": {},
   "outputs": [
    {
     "name": "stdout",
     "output_type": "stream",
     "text": [
      "['gly1', 'gly2', 'gly3', 'glyx3', 'nterdb', 'summary', 'features', 'ccya', 'genomes']\n"
     ]
    }
   ],
   "source": [
    "db3 = HarleyDB.HarleyDB(\"test3.db\")\n",
    "db3.md5\n",
    "print(db3.list_table())"
   ]
  },
  {
   "cell_type": "code",
   "execution_count": 94,
   "id": "d27c5002",
   "metadata": {},
   "outputs": [
    {
     "data": {
      "text/plain": [
       "True"
      ]
     },
     "execution_count": 94,
     "metadata": {},
     "output_type": "execute_result"
    }
   ],
   "source": [
    "db.compare_scheme(db3)"
   ]
  },
  {
   "cell_type": "code",
   "execution_count": 95,
   "id": "6ad5bfaa",
   "metadata": {},
   "outputs": [
    {
     "data": {
      "text/plain": [
       "True"
      ]
     },
     "execution_count": 95,
     "metadata": {},
     "output_type": "execute_result"
    }
   ],
   "source": [
    "db3.is_empty(\"gly1\")"
   ]
  },
  {
   "cell_type": "code",
   "execution_count": 96,
   "id": "a01e0a23",
   "metadata": {},
   "outputs": [
    {
     "data": {
      "text/plain": [
       "'4ab84c75cebc03e5f9e8b4448750b44f'"
      ]
     },
     "execution_count": 96,
     "metadata": {},
     "output_type": "execute_result"
    }
   ],
   "source": [
    "db4 = HarleyDB.HarleyDB(\"test4.db\")\n",
    "db4.md5\n",
    "db4.to_fasta(\"gly1\")"
   ]
  },
  {
   "cell_type": "code",
   "execution_count": 98,
   "id": "9d22e7dd",
   "metadata": {},
   "outputs": [
    {
     "data": {
      "text/plain": [
       "{'test': 'AAAHAHAHHAHAA', 'test2': 'AAHCHCHCHCHCH'}"
      ]
     },
     "execution_count": 98,
     "metadata": {},
     "output_type": "execute_result"
    }
   ],
   "source": [
    "db4.to_msa(\"gly1\")"
   ]
  },
  {
   "cell_type": "code",
   "execution_count": 117,
   "id": "8b6d7a21",
   "metadata": {},
   "outputs": [
    {
     "data": {
      "text/html": [
       "<div>\n",
       "<style scoped>\n",
       "    .dataframe tbody tr th:only-of-type {\n",
       "        vertical-align: middle;\n",
       "    }\n",
       "\n",
       "    .dataframe tbody tr th {\n",
       "        vertical-align: top;\n",
       "    }\n",
       "\n",
       "    .dataframe thead th {\n",
       "        text-align: right;\n",
       "    }\n",
       "</style>\n",
       "<table border=\"1\" class=\"dataframe\">\n",
       "  <thead>\n",
       "    <tr style=\"text-align: right;\">\n",
       "      <th></th>\n",
       "      <th>0</th>\n",
       "      <th>1</th>\n",
       "      <th>2</th>\n",
       "    </tr>\n",
       "  </thead>\n",
       "  <tbody>\n",
       "    <tr>\n",
       "      <th>0</th>\n",
       "      <td>lcl|CAIP01000155.1_cds_CCI32158.1_2529</td>\n",
       "      <td>Z-type</td>\n",
       "      <td>ANSDSSASTGEKFTHNPASFLAAAGQVANQIARAAKTAGEAAAQQW...</td>\n",
       "    </tr>\n",
       "    <tr>\n",
       "      <th>1</th>\n",
       "      <td>lcl|HE972560.1_cds_CCH91948.1_2442</td>\n",
       "      <td>Z-type</td>\n",
       "      <td>ANPDSSASAGEQFTHNPADFLAAAQRMANQIAKAAKTAGEAAAQQW...</td>\n",
       "    </tr>\n",
       "    <tr>\n",
       "      <th>2</th>\n",
       "      <td>lcl|HE972658.1_cds_CCH96286.1_113</td>\n",
       "      <td>Z-type</td>\n",
       "      <td>ANPDSSASAGEQVTQNPADFLAAAGEVANQIAKAAKTAGEAAAQQW...</td>\n",
       "    </tr>\n",
       "    <tr>\n",
       "      <th>3</th>\n",
       "      <td>lcl|HE972973.1_cds_CCI02293.1_2221</td>\n",
       "      <td>Z-type</td>\n",
       "      <td>ANPDSSASAGEQFTHNPASLLAAAGEVANQIAKTAKTAGEAAAQQW...</td>\n",
       "    </tr>\n",
       "    <tr>\n",
       "      <th>4</th>\n",
       "      <td>lcl|HE973166.1_cds_CCI07557.1_2995</td>\n",
       "      <td>Z-type</td>\n",
       "      <td>ANPDSSASAGEQFTHNPADFLAAAQRMANQMAKAAKTAGEAAAQQW...</td>\n",
       "    </tr>\n",
       "    <tr>\n",
       "      <th>...</th>\n",
       "      <td>...</td>\n",
       "      <td>...</td>\n",
       "      <td>...</td>\n",
       "    </tr>\n",
       "    <tr>\n",
       "      <th>142</th>\n",
       "      <td>RSCJ01000023.1_56</td>\n",
       "      <td>Y-type</td>\n",
       "      <td>SSEGIIKAQSSDIAVKAEVIQVYSQSTSIQLARTSTQKASCLGFFA...</td>\n",
       "    </tr>\n",
       "    <tr>\n",
       "      <th>143</th>\n",
       "      <td>lcl|JACYLT010000036.1_cds_MBF2004893.1_2227</td>\n",
       "      <td>Y-type</td>\n",
       "      <td>SSEGIIKAQSSDIAVKAEVIQVYSQSTSIQLARTSTQKASCLGFFA...</td>\n",
       "    </tr>\n",
       "    <tr>\n",
       "      <th>144</th>\n",
       "      <td>lcl|NZ_AJLM01000017.1_cds_WP_016872895.1_609</td>\n",
       "      <td>Y-type</td>\n",
       "      <td>SSEGIIKAQSSDIAVKAEVIQVYSQSTSIQLARTSTQKASCLGFFA...</td>\n",
       "    </tr>\n",
       "    <tr>\n",
       "      <th>145</th>\n",
       "      <td>lcl|NZ_AJLN01000033.1_cds_WP_016872895.1_323</td>\n",
       "      <td>Y-type</td>\n",
       "      <td>SSEGIIKAQSSDIAVKAEVIQVYSQSTSIQLARTSTQKASCLGFFA...</td>\n",
       "    </tr>\n",
       "    <tr>\n",
       "      <th>146</th>\n",
       "      <td>lcl|NZ_RSCJ01000023.1_cds_WP_016872895.1_4841</td>\n",
       "      <td>Y-type</td>\n",
       "      <td>SSEGIIKAQSSDIAVKAEVIQVYSQSTSIQLARTSTQKASCLGFFA...</td>\n",
       "    </tr>\n",
       "  </tbody>\n",
       "</table>\n",
       "<p>147 rows × 3 columns</p>\n",
       "</div>"
      ],
      "text/plain": [
       "                                                 0       1  \\\n",
       "0           lcl|CAIP01000155.1_cds_CCI32158.1_2529  Z-type   \n",
       "1               lcl|HE972560.1_cds_CCH91948.1_2442  Z-type   \n",
       "2                lcl|HE972658.1_cds_CCH96286.1_113  Z-type   \n",
       "3               lcl|HE972973.1_cds_CCI02293.1_2221  Z-type   \n",
       "4               lcl|HE973166.1_cds_CCI07557.1_2995  Z-type   \n",
       "..                                             ...     ...   \n",
       "142                              RSCJ01000023.1_56  Y-type   \n",
       "143    lcl|JACYLT010000036.1_cds_MBF2004893.1_2227  Y-type   \n",
       "144   lcl|NZ_AJLM01000017.1_cds_WP_016872895.1_609  Y-type   \n",
       "145   lcl|NZ_AJLN01000033.1_cds_WP_016872895.1_323  Y-type   \n",
       "146  lcl|NZ_RSCJ01000023.1_cds_WP_016872895.1_4841  Y-type   \n",
       "\n",
       "                                                     2  \n",
       "0    ANSDSSASTGEKFTHNPASFLAAAGQVANQIARAAKTAGEAAAQQW...  \n",
       "1    ANPDSSASAGEQFTHNPADFLAAAQRMANQIAKAAKTAGEAAAQQW...  \n",
       "2    ANPDSSASAGEQVTQNPADFLAAAGEVANQIAKAAKTAGEAAAQQW...  \n",
       "3    ANPDSSASAGEQFTHNPASLLAAAGEVANQIAKTAKTAGEAAAQQW...  \n",
       "4    ANPDSSASAGEQFTHNPADFLAAAQRMANQMAKAAKTAGEAAAQQW...  \n",
       "..                                                 ...  \n",
       "142  SSEGIIKAQSSDIAVKAEVIQVYSQSTSIQLARTSTQKASCLGFFA...  \n",
       "143  SSEGIIKAQSSDIAVKAEVIQVYSQSTSIQLARTSTQKASCLGFFA...  \n",
       "144  SSEGIIKAQSSDIAVKAEVIQVYSQSTSIQLARTSTQKASCLGFFA...  \n",
       "145  SSEGIIKAQSSDIAVKAEVIQVYSQSTSIQLARTSTQKASCLGFFA...  \n",
       "146  SSEGIIKAQSSDIAVKAEVIQVYSQSTSIQLARTSTQKASCLGFFA...  \n",
       "\n",
       "[147 rows x 3 columns]"
      ]
     },
     "execution_count": 117,
     "metadata": {},
     "output_type": "execute_result"
    }
   ],
   "source": [
    "import sqlite3\n",
    "\n",
    "con = sqlite3.connect(\"/Users/mmillet/HARLEY/micro/micro.db\")\n",
    "cur = con.cursor()\n",
    "\n",
    "\n",
    "cur.execute('''SELECT f.sequence_id, \n",
    "            f.feature_src,\n",
    "            f.feature_seq\n",
    "        FROM pcalf_features as f JOIN pcalf_summary as s \n",
    "        ON f.sequence_id = s.sequence_id \n",
    "        WHERE f.feature_id = \"N-ter\" AND s.flag = \"Calcyanin with known N-ter\"''')\n",
    "row = []\n",
    "for r in cur.fetchall():\n",
    "    nter,src = r[1].split(\"||\")\n",
    "    row.append((r[0],nter,r[-1]))\n",
    "import pandas as pd\n",
    "pd.DataFrame(row)"
   ]
  },
  {
   "cell_type": "code",
   "execution_count": 127,
   "id": "aabb0304",
   "metadata": {},
   "outputs": [
    {
     "data": {
      "text/plain": [
       "['user_genome',\n",
       " 'classification',\n",
       " 'fastani_reference',\n",
       " 'fastani_reference_radius',\n",
       " 'fastani_taxonomy',\n",
       " 'fastani_ani',\n",
       " 'fastani_af',\n",
       " 'closest_placement_reference',\n",
       " 'closest_placement_radius',\n",
       " 'closest_placement_taxonomy',\n",
       " 'closest_placement_ani',\n",
       " 'closest_placement_af',\n",
       " 'pplacer_taxonomy',\n",
       " 'classification_method',\n",
       " 'note',\n",
       " 'other_related_references(genome_id,species_name,radius,ANI,AF)',\n",
       " 'msa_percent',\n",
       " 'translation_table',\n",
       " 'red_value',\n",
       " 'warnings']"
      ]
     },
     "execution_count": 127,
     "metadata": {},
     "output_type": "execute_result"
    }
   ],
   "source": [
    "\"user_genome\tclassification\tfastani_reference\tfastani_reference_radius\tfastani_taxonomy\tfastani_ani\tfastani_af\tclosest_placement_reference\tclosest_placement_radius\tclosest_placement_taxonomy\tclosest_placement_ani\tclosest_placement_af\tpplacer_taxonomy\tclassification_method\tnote\tother_related_references(genome_id,species_name,radius,ANI,AF)\tmsa_percent\ttranslation_table\tred_value\twarnings\".split(\"\\t\")"
   ]
  }
 ],
 "metadata": {
  "kernelspec": {
   "display_name": "Python 3 (ipykernel)",
   "language": "python",
   "name": "python3"
  },
  "language_info": {
   "codemirror_mode": {
    "name": "ipython",
    "version": 3
   },
   "file_extension": ".py",
   "mimetype": "text/x-python",
   "name": "python",
   "nbconvert_exporter": "python",
   "pygments_lexer": "ipython3",
   "version": "3.9.15"
  }
 },
 "nbformat": 4,
 "nbformat_minor": 5
}
